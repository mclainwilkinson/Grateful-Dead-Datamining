{
 "cells": [
  {
   "cell_type": "markdown",
   "metadata": {},
   "source": [
    "# Grateful Dead Career Tour and Setlists - 1965-1995\n",
    "\n",
    "setlists and info from www.setlists.net\n",
    "\n",
    "this notebook used to scrape setlist information using BeautifulSoup and puts in sqlite database file"
   ]
  },
  {
   "cell_type": "code",
   "execution_count": 4,
   "metadata": {},
   "outputs": [
    {
     "name": "stdout",
     "output_type": "stream",
     "text": [
      "('3.13.0',)\n"
     ]
    },
    {
     "data": {
      "text/plain": [
       "<sqlite3.Cursor at 0x1031b51f0>"
      ]
     },
     "execution_count": 4,
     "metadata": {},
     "output_type": "execute_result"
    }
   ],
   "source": [
    "#create sqlite database object and create table\n",
    "import sqlite3\n",
    "\n",
    "db = sqlite3.connect('setlists.sqlite')\n",
    "test_ans = db.execute('Select SQLITE_VERSION()')\n",
    "for row in test_ans:\n",
    "    print(row)\n",
    "    \n",
    "db.execute('CREATE TABLE GD_SHOWS (date TEXT, venue TEXT, city TEXT, state TEXT, setlist TEXT);')"
   ]
  },
  {
   "cell_type": "code",
   "execution_count": 5,
   "metadata": {},
   "outputs": [
    {
     "name": "stdout",
     "output_type": "stream",
     "text": [
      "..293....676.................Done\n"
     ]
    }
   ],
   "source": [
    "#scrape concert info into sqlite database table\n",
    "from bs4 import BeautifulSoup\n",
    "import requests\n",
    "\n",
    "history = {}\n",
    "ndx = 2 #first show at index 2\n",
    "while ndx < 2360: #2359 is last show on website\n",
    "    show_id = str(ndx)\n",
    "\n",
    "    url = 'http://www.setlists.net/?show_id=' + show_id \n",
    "\n",
    "    response = requests.get(url)\n",
    "\n",
    "    html_soup = BeautifulSoup(response.text,'html.parser')\n",
    "\n",
    "    #get show info (date, venue, city, state)\n",
    "    info = html_soup.find_all('td')\n",
    "    info = info[26]\n",
    "    info = info.find_all('b')\n",
    "    if len(info) < 3:\n",
    "        print(ndx,end='') #print website index of \"blank\" pages\n",
    "        ndx += 1\n",
    "        continue\n",
    "    date = info[1].text\n",
    "    date = '19' + date[-2:] + '-' + date[:2] + '-' + date[3:5]\n",
    "    info = info[2].text\n",
    "    info = info.split(' - ')\n",
    "    venue = info[0]\n",
    "    venue = venue[1:]\n",
    "    location = info[1].split(', ')\n",
    "    city = location[0]\n",
    "    if len(location) > 1:\n",
    "        state = location[1]\n",
    "    else:\n",
    "        state = ''\n",
    "\n",
    "    #get setlist\n",
    "    setlist = html_soup.find_all('p')\n",
    "    setlist = setlist[4].text\n",
    "    loc = setlist.find('Download')\n",
    "    setlist = setlist[:loc]\n",
    "    if setlist[0] == 'S':\n",
    "        setlist = setlist.split('\\n')\n",
    "        break_index = []\n",
    "        for s in setlist:\n",
    "            idx = setlist.index(s)\n",
    "            if s.find(':') != -1:\n",
    "                break_index.append(idx)\n",
    "                split = s.split(':')\n",
    "                setlist.remove(s)\n",
    "                setlist.insert(idx, split[1])\n",
    "                setlist.insert(idx, split[0])\n",
    "        setlist.remove('')\n",
    "        setlist = '>'.join(setlist)\n",
    "    else:\n",
    "        setlist = 'Unknown'\n",
    "    \n",
    "    show_info = (date,venue,city,state,setlist)\n",
    "    db.execute('INSERT INTO GD_SHOWS (date, venue, city, state, setlist) values (?,?,?,?,?);',show_info)\n",
    "    \n",
    "    if int(show_id) % 100 == 0:\n",
    "        print('.',end='') \n",
    "    ndx += 1\n",
    "\n",
    "print('Done')\n",
    "db.commit()\n",
    "db.close()"
   ]
  },
  {
   "cell_type": "code",
   "execution_count": 7,
   "metadata": {},
   "outputs": [
    {
     "data": {
      "text/html": [
       "<div>\n",
       "<style>\n",
       "    .dataframe thead tr:only-child th {\n",
       "        text-align: right;\n",
       "    }\n",
       "\n",
       "    .dataframe thead th {\n",
       "        text-align: left;\n",
       "    }\n",
       "\n",
       "    .dataframe tbody tr th {\n",
       "        vertical-align: top;\n",
       "    }\n",
       "</style>\n",
       "<table border=\"1\" class=\"dataframe\">\n",
       "  <thead>\n",
       "    <tr style=\"text-align: right;\">\n",
       "      <th></th>\n",
       "      <th>date</th>\n",
       "      <th>venue</th>\n",
       "      <th>city</th>\n",
       "      <th>state</th>\n",
       "      <th>setlist</th>\n",
       "    </tr>\n",
       "  </thead>\n",
       "  <tbody>\n",
       "    <tr>\n",
       "      <th>2351</th>\n",
       "      <td>1972-07-26</td>\n",
       "      <td>Paramount Theatre</td>\n",
       "      <td>Portland</td>\n",
       "      <td>OR</td>\n",
       "      <td>Set 1&gt;Cold Rain And Snow&gt;Black Throated Wind&gt;Mississippi Half-Step&gt;Mexicali Blues&gt;Sugaree&gt;El Paso&gt;China Cat Sunflower&gt;I Know You Rider&gt;Jack Straw&gt;Tennessee Jed&gt;Playin' In The Band&gt;Casey Jones&gt;Set 2&gt;The Promised Land&gt;He's Gone&gt;Me And My Uncle&gt;You Win Again&gt;Greatest Story Ever Told&gt;Ramble On Rose&gt;Dark Star&gt;Comes A Time&gt;Sugar Magnolia&gt;Brown-Eyed Women&gt;Beat It On Down The Line&gt;Stella Blue&gt;Not Fade Away&gt;Goin' Down The Road Feeling Bad&gt;Not Fade Away&gt;Encore&gt;One More Saturday Night</td>\n",
       "    </tr>\n",
       "    <tr>\n",
       "      <th>2352</th>\n",
       "      <td>1970-11-12</td>\n",
       "      <td>46th Street Rock Palace</td>\n",
       "      <td>Brooklyn</td>\n",
       "      <td>NY</td>\n",
       "      <td>Unknown</td>\n",
       "    </tr>\n",
       "    <tr>\n",
       "      <th>2353</th>\n",
       "      <td>1969-04-04</td>\n",
       "      <td>Avalon Ballroom</td>\n",
       "      <td>San Francisco</td>\n",
       "      <td>CA</td>\n",
       "      <td>Set 1&gt;Good Morning Little School Girl&gt;Doin' That Rag&gt;Cryptical Envelopment&gt;Drums&gt;The Other One&gt;Cryptical Envelopment&gt;Death Don't Have No Mercy&gt;Set 2&gt;Turn On Your Love Light&gt;Dark Star&gt;St. Stephen&gt;The Eleven&gt;Feedback&gt;</td>\n",
       "    </tr>\n",
       "    <tr>\n",
       "      <th>2354</th>\n",
       "      <td>1971-12-09</td>\n",
       "      <td>Fox Theatre</td>\n",
       "      <td>St. Louis</td>\n",
       "      <td>MO</td>\n",
       "      <td>Set 1&gt;Truckin'&gt;Brown-Eyed Women&gt;Mr. Charlie&gt;Jack Straw&gt;Sugaree&gt;Beat It On Down The Line&gt;It Hurts Me Too&gt;Tennessee Jed&gt;El Paso&gt;Run Rudolph Run&gt;Black Peter&gt;Playin' In The Band&gt;Casey Jones&gt;One More Saturday Night&gt;Set 2&gt;Ramble On Rose&gt;Mexicali Blues&gt;Big Boss Man&gt;Sugar Magnolia&gt;Not Fade Away&gt;Goin' Down The Road Feeling Bad&gt;Not Fade Away</td>\n",
       "    </tr>\n",
       "    <tr>\n",
       "      <th>2355</th>\n",
       "      <td>1971-01-24</td>\n",
       "      <td>Seattle Center Arena</td>\n",
       "      <td>Seattle</td>\n",
       "      <td>WA</td>\n",
       "      <td>Set 1&gt;Truckin'&gt;China Cat Sunflower&gt;I Know You Rider&gt;It Hurts Me Too&gt;Cumberland Blues&gt;Casey Jones&gt;Sugar Magnolia&gt;Set 2&gt;Hard To Handle&gt;Turn On Your Love Light&gt;Not Fade Away&gt;Goin' Down The Road Feeling Bad&gt;Turn On Your Love Light&gt;Drums&gt;Good Lovin'</td>\n",
       "    </tr>\n",
       "  </tbody>\n",
       "</table>\n",
       "</div>"
      ],
      "text/plain": [
       "            date                    venue           city state  \\\n",
       "2351  1972-07-26  Paramount Theatre        Portland       OR     \n",
       "2352  1970-11-12  46th Street Rock Palace  Brooklyn       NY     \n",
       "2353  1969-04-04  Avalon Ballroom          San Francisco  CA     \n",
       "2354  1971-12-09  Fox Theatre              St. Louis      MO     \n",
       "2355  1971-01-24  Seattle Center Arena     Seattle        WA     \n",
       "\n",
       "                                                                                                                                                                                                                                                                                                                                                                                                                                                                                             setlist  \n",
       "2351  Set 1>Cold Rain And Snow>Black Throated Wind>Mississippi Half-Step>Mexicali Blues>Sugaree>El Paso>China Cat Sunflower>I Know You Rider>Jack Straw>Tennessee Jed>Playin' In The Band>Casey Jones>Set 2>The Promised Land>He's Gone>Me And My Uncle>You Win Again>Greatest Story Ever Told>Ramble On Rose>Dark Star>Comes A Time>Sugar Magnolia>Brown-Eyed Women>Beat It On Down The Line>Stella Blue>Not Fade Away>Goin' Down The Road Feeling Bad>Not Fade Away>Encore>One More Saturday Night  \n",
       "2352  Unknown                                                                                                                                                                                                                                                                                                                                                                                                                                                                                         \n",
       "2353  Set 1>Good Morning Little School Girl>Doin' That Rag>Cryptical Envelopment>Drums>The Other One>Cryptical Envelopment>Death Don't Have No Mercy>Set 2>Turn On Your Love Light>Dark Star>St. Stephen>The Eleven>Feedback>                                                                                                                                                                                                                                                                         \n",
       "2354  Set 1>Truckin'>Brown-Eyed Women>Mr. Charlie>Jack Straw>Sugaree>Beat It On Down The Line>It Hurts Me Too>Tennessee Jed>El Paso>Run Rudolph Run>Black Peter>Playin' In The Band>Casey Jones>One More Saturday Night>Set 2>Ramble On Rose>Mexicali Blues>Big Boss Man>Sugar Magnolia>Not Fade Away>Goin' Down The Road Feeling Bad>Not Fade Away                                                                                                                                                   \n",
       "2355  Set 1>Truckin'>China Cat Sunflower>I Know You Rider>It Hurts Me Too>Cumberland Blues>Casey Jones>Sugar Magnolia>Set 2>Hard To Handle>Turn On Your Love Light>Not Fade Away>Goin' Down The Road Feeling Bad>Turn On Your Love Light>Drums>Good Lovin'                                                                                                                                                                                                                                            "
      ]
     },
     "execution_count": 7,
     "metadata": {},
     "output_type": "execute_result"
    }
   ],
   "source": [
    "import pandas as pd\n",
    "pd.set_option('display.max_colwidth', -1)\n",
    "\n",
    "db = sqlite3.connect('setlists.sqlite')\n",
    "dead = pd.read_sql_query('select * from GD_SHOWS;',db)\n",
    "dead.tail()"
   ]
  },
  {
   "cell_type": "code",
   "execution_count": 9,
   "metadata": {
    "collapsed": true
   },
   "outputs": [],
   "source": [
    "db.close()"
   ]
  }
 ],
 "metadata": {
  "kernelspec": {
   "display_name": "Python 3",
   "language": "python",
   "name": "python3"
  },
  "language_info": {
   "codemirror_mode": {
    "name": "ipython",
    "version": 3
   },
   "file_extension": ".py",
   "mimetype": "text/x-python",
   "name": "python",
   "nbconvert_exporter": "python",
   "pygments_lexer": "ipython3",
   "version": "3.6.1"
  }
 },
 "nbformat": 4,
 "nbformat_minor": 2
}
